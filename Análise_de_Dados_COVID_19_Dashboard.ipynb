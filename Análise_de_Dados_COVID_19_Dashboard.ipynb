{
  "nbformat": 4,
  "nbformat_minor": 0,
  "metadata": {
    "colab": {
      "provenance": [],
      "toc_visible": true,
      "include_colab_link": true
    },
    "kernelspec": {
      "name": "python3",
      "display_name": "Python 3"
    }
  },
  "cells": [
    {
      "cell_type": "markdown",
      "metadata": {
        "id": "view-in-github",
        "colab_type": "text"
      },
      "source": [
        "<a href=\"https://colab.research.google.com/github/Estteves/Estteves-Portfolio/blob/main/An%C3%A1lise_de_Dados_COVID_19_Dashboard.ipynb\" target=\"_parent\"><img src=\"https://colab.research.google.com/assets/colab-badge.svg\" alt=\"Open In Colab\"/></a>"
      ]
    },
    {
      "cell_type": "markdown",
      "metadata": {
        "id": "KJqp9AANOCtf"
      },
      "source": [
        "<img src=\"https://raw.githubusercontent.com/andre-marcos-perez/ebac-course-utils/main/media/logo/newebac_logo_black_half.png\" alt=\"ebac-logo\">\n",
        "\n",
        "---\n",
        "\n",
        "# **Módulo** | Análise de Dados: COVID-19 Dashboard\n",
        "Caderno de **Exercícios**<br>\n",
        "Professor [André Perez](https://www.linkedin.com/in/andremarcosperez/)\n",
        "\n",
        "---"
      ]
    },
    {
      "cell_type": "markdown",
      "metadata": {
        "id": "d9jDtUbDOE1-"
      },
      "source": [
        "# **Tópicos**\n",
        "\n",
        "<ol type=\"1\">\n",
        "  <li>Introdução;</li>\n",
        "  <li>Análise Exploratória de Dados;</li>\n",
        "  <li>Visualização Interativa de Dados;</li>\n",
        "  <li>Storytelling.</li>\n",
        "</ol>\n"
      ]
    },
    {
      "cell_type": "markdown",
      "metadata": {
        "id": "SmoHgt-lwkpD"
      },
      "source": [
        "---"
      ]
    },
    {
      "cell_type": "markdown",
      "metadata": {
        "id": "GABI6OW8OfQ2"
      },
      "source": [
        "# **Exercícios**"
      ]
    },
    {
      "cell_type": "markdown",
      "metadata": {
        "id": "muD1vxozykSC"
      },
      "source": [
        "Este *notebook* deve servir como um guia para **você continuar** a construção da sua própria análise exploratória de dados interativa. Fique a vontate para copiar os códigos da aula mas busque explorar os dados ao máximo. Por fim, publique seu *notebook* no [Kaggle](https://www.kaggle.com/) e seu *dashboard* [Google Data Studio](https://datastudio.google.com/)."
      ]
    },
    {
      "cell_type": "markdown",
      "metadata": {
        "id": "zMN1Q3jdwoJm"
      },
      "source": [
        "---"
      ]
    },
    {
      "cell_type": "markdown",
      "metadata": {
        "id": "QRcqbpLpFK5o"
      },
      "source": [
        "# **COVID Dashboard**"
      ]
    },
    {
      "cell_type": "markdown",
      "metadata": {
        "id": "6-CvdKwqFPiW"
      },
      "source": [
        "## 1\\. Contexto"
      ]
    },
    {
      "cell_type": "markdown",
      "source": [
        "### **Pandemia Coronavírus 2019**"
      ],
      "metadata": {
        "id": "uBq6aQxeB4r0"
      }
    },
    {
      "cell_type": "markdown",
      "source": [
        "> A COVID-19 é uma infecção respiratória aguda causada pelo coronavírus SARS-CoV-2, potencialmente grave, de elevada transmissibilidade e de distribuição global. Fonte: Governo brasileiro ([link](https://www.gov.br/saude/pt-br/coronavirus/o-que-e-o-coronavirus))."
      ],
      "metadata": {
        "id": "caKO04G0tzxc"
      }
    },
    {
      "cell_type": "markdown",
      "source": [
        "A disponibilidade de dados sobre a evolução da pandemia no tempo em uma determinada região geográfica é fundamental para o seu combate! Este projeto busca construir um dashboard de dados para exploração e visualização interativa de dados sobre o avanço de casos e da vacinação do Brasil. O processamento de dados está neste link https://www.kaggle.com/code/esttevessantos/covid-19-estteves/notebook e o dashboard, neste link https://lookerstudio.google.com/reporting/37646543-ad04-42ce-ba04-385c64b66bb3."
      ],
      "metadata": {
        "id": "qgdgnVJmiPSH"
      }
    },
    {
      "cell_type": "markdown",
      "metadata": {
        "id": "QxukLHaqFnkU"
      },
      "source": [
        "## 2\\. Pacotes e bibliotecas"
      ]
    },
    {
      "cell_type": "code",
      "metadata": {
        "id": "VXUEW0VrF7XW"
      },
      "source": [
        "# importe todas as suas bibliotecas aqui, siga os padrões do PEP8:\n",
        "#\n",
        "import math\n",
        "from typing import Iterator\n",
        "from datetime import datetime, timedelta\n",
        "\n",
        "import numpy as np\n",
        "import pandas as pd"
      ],
      "execution_count": null,
      "outputs": []
    },
    {
      "cell_type": "markdown",
      "source": [
        "## 3\\. Número de Casos"
      ],
      "metadata": {
        "id": "xcPs8j-3oT50"
      }
    },
    {
      "cell_type": "markdown",
      "metadata": {
        "id": "irQxHW1zGkdZ"
      },
      "source": [
        "## 3.1\\. Extração"
      ]
    },
    {
      "cell_type": "code",
      "metadata": {
        "id": "lxLj8e0GHAnr"
      },
      "source": [
        "# faça o código de extração dos dados:\n",
        "cases = pd.read_csv('https://raw.githubusercontent.com/CSSEGISandData/COVID-19/master/csse_covid_19_data/csse_covid_19_daily_reports/01-12-2021.csv', sep=',')\n"
      ],
      "execution_count": null,
      "outputs": []
    },
    {
      "cell_type": "code",
      "source": [
        "# iterando dentro de um intervalo de tempo definido para extraí-lo\n",
        "def date_range(start_date: datetime, end_date: datetime) -> Iterator[datetime]:\n",
        "  date_range_days: int = (end_date - start_date).days\n",
        "  for lag in range(date_range_days):\n",
        "    yield start_date + timedelta(lag)\n",
        "\n",
        "start_date = datetime(2021,  1,  1)\n",
        "end_date   = datetime(2021, 12, 31)"
      ],
      "metadata": {
        "id": "3MRrhKSBlGYt"
      },
      "execution_count": null,
      "outputs": []
    },
    {
      "cell_type": "code",
      "source": [
        "#selecionando as colunas de interesse e as linhas referentes ao Brasil\n",
        "cases = None\n",
        "cases_is_empty = True\n",
        "\n",
        "for date in date_range(start_date=start_date, end_date=end_date):\n",
        "\n",
        "  date_str = date.strftime('%m-%d-%Y')\n",
        "  data_source_url = f'https://raw.githubusercontent.com/CSSEGISandData/COVID-19/master/csse_covid_19_data/csse_covid_19_daily_reports/{date_str}.csv'\n",
        "\n",
        "  case = pd.read_csv(data_source_url, sep=',')\n",
        "\n",
        "  case = case.drop(['FIPS', 'Admin2', 'Last_Update', 'Lat', 'Long_', 'Recovered', 'Active', 'Combined_Key', 'Case_Fatality_Ratio'], axis=1)\n",
        "  case = case.query('Country_Region == \"Brazil\"').reset_index(drop=True)\n",
        "  case['Date'] = pd.to_datetime(date.strftime('%Y-%m-%d'))\n",
        "\n",
        "  if cases_is_empty:\n",
        "    cases = case\n",
        "    cases_is_empty = False\n",
        "  else:\n",
        "    cases = cases.append(case, ignore_index=True)"
      ],
      "metadata": {
        "id": "R0nhCt0wlKg2"
      },
      "execution_count": null,
      "outputs": []
    },
    {
      "cell_type": "code",
      "source": [
        "# manipulando os dados para o dashboard. O foco é em garantir uma boa granularidade e qualidade da base de dados. (Wrangling)\n",
        "cases.head()"
      ],
      "metadata": {
        "id": "RYRC35-KlZ6O"
      },
      "execution_count": null,
      "outputs": []
    },
    {
      "cell_type": "code",
      "source": [
        "cases.shape"
      ],
      "metadata": {
        "id": "-F8COkQXlyI2"
      },
      "execution_count": null,
      "outputs": []
    },
    {
      "cell_type": "code",
      "source": [
        "cases.info()"
      ],
      "metadata": {
        "id": "CyZ9h0KJlzq9"
      },
      "execution_count": null,
      "outputs": []
    },
    {
      "cell_type": "markdown",
      "metadata": {
        "id": "98hexQTyJS9I"
      },
      "source": [
        "## 3.2\\. Transformação"
      ]
    },
    {
      "cell_type": "code",
      "metadata": {
        "id": "DXU4Ee0QJS9Q"
      },
      "source": [
        "# faça o código de manipulação dos dados:\n",
        "\n",
        "#Começamos com o nome das colunas.\n",
        "cases = cases.rename(\n",
        "  columns={\n",
        "    'Province_State': 'state',\n",
        "    'Country_Region': 'country'\n",
        "  }\n",
        ")\n",
        "\n",
        "for col in cases.columns:\n",
        "  cases = cases.rename(columns={col: col.lower()})"
      ],
      "execution_count": null,
      "outputs": []
    },
    {
      "cell_type": "code",
      "source": [
        "#Ajustamos o nome dos estados.\n",
        "states_map = {\n",
        "    'Amapa': 'Amapá',\n",
        "    'Ceara': 'Ceará',\n",
        "    'Espirito Santo': 'Espírito Santo',\n",
        "    'Goias': 'Goiás',\n",
        "    'Para': 'Pará',\n",
        "    'Paraiba': 'Paraíba',\n",
        "    'Parana': 'Paraná',\n",
        "    'Piaui': 'Piauí',\n",
        "    'Rondonia': 'Rondônia',\n",
        "    'Sao Paulo': 'São Paulo'\n",
        "}\n",
        "\n",
        "cases['state'] = cases['state'].apply(lambda state: states_map.get(state) if state in states_map.keys() else state)"
      ],
      "metadata": {
        "id": "Swmvn1adl8pG"
      },
      "execution_count": null,
      "outputs": []
    },
    {
      "cell_type": "code",
      "source": [
        "# Vamos então computar novas colunas para enriquecer a base de dados.\n",
        "#Chaves temporais:\n",
        "cases['month'] = cases['date'].apply(lambda date: date.strftime('%Y-%m'))\n",
        "cases['year']  = cases['date'].apply(lambda date: date.strftime('%Y'))"
      ],
      "metadata": {
        "id": "1cAcPBNBmAqu"
      },
      "execution_count": null,
      "outputs": []
    },
    {
      "cell_type": "code",
      "source": [
        "# População estimada do estado:\n",
        "cases['population'] = round(100000 * (cases['confirmed'] / cases['incident_rate']))\n",
        "cases = cases.drop('incident_rate', axis=1)"
      ],
      "metadata": {
        "id": "OT0NhUjGmHGF"
      },
      "execution_count": null,
      "outputs": []
    },
    {
      "cell_type": "code",
      "source": [
        "# Número, média móvel (7 dias) e estabilidade (14 dias) de casos e mortes por estado:\n",
        "cases_ = None\n",
        "cases_is_empty = True\n",
        "\n",
        "def get_trend(rate: float) -> str:\n",
        "\n",
        "  if np.isnan(rate):\n",
        "    return np.NaN\n",
        "\n",
        "  if rate < 0.75:\n",
        "    status = 'downward'\n",
        "  elif rate > 1.15:\n",
        "    status = 'upward'\n",
        "  else:\n",
        "    status = 'stable'\n",
        "\n",
        "  return status\n",
        "\n",
        "\n",
        "for state in cases['state'].drop_duplicates():\n",
        "\n",
        "  cases_per_state = cases.query(f'state == \"{state}\"').reset_index(drop=True)\n",
        "  cases_per_state = cases_per_state.sort_values(by=['date'])\n",
        "\n",
        "  cases_per_state['confirmed_1d'] = cases_per_state['confirmed'].diff(periods=1)\n",
        "  cases_per_state['confirmed_moving_avg_7d'] = np.ceil(cases_per_state['confirmed_1d'].rolling(window=7).mean())\n",
        "  cases_per_state['confirmed_moving_avg_7d_rate_14d'] = cases_per_state['confirmed_moving_avg_7d']/cases_per_state['confirmed_moving_avg_7d'].shift(periods=14)\n",
        "  cases_per_state['confirmed_trend'] = cases_per_state['confirmed_moving_avg_7d_rate_14d'].apply(get_trend)\n",
        "\n",
        "  cases_per_state['deaths_1d'] = cases_per_state['deaths'].diff(periods=1)\n",
        "  cases_per_state['deaths_moving_avg_7d'] = np.ceil(cases_per_state['deaths_1d'].rolling(window=7).mean())\n",
        "  cases_per_state['deaths_moving_avg_7d_rate_14d'] = cases_per_state['deaths_moving_avg_7d']/cases_per_state['deaths_moving_avg_7d'].shift(periods=14)\n",
        "  cases_per_state['deaths_trend'] = cases_per_state['deaths_moving_avg_7d_rate_14d'].apply(get_trend)\n",
        "\n",
        "  if cases_is_empty:\n",
        "    cases_ = cases_per_state\n",
        "    cases_is_empty = False\n",
        "  else:\n",
        "    cases_ = cases_.append(cases_per_state, ignore_index=True)\n",
        "\n",
        "cases = cases_\n",
        "cases_ = None"
      ],
      "metadata": {
        "id": "RyCNDXErmKoU"
      },
      "execution_count": null,
      "outputs": []
    },
    {
      "cell_type": "code",
      "source": [
        "# Garantir o tipo do dado é fundamental para consistência da base de dados. Vamos fazer o type casting das colunas.\n",
        "cases['population'] = cases['population'].astype('Int64')\n",
        "cases['confirmed_1d'] = cases['confirmed_1d'].astype('Int64')\n",
        "cases['confirmed_moving_avg_7d'] = cases['confirmed_moving_avg_7d'].astype('Int64')\n",
        "cases['deaths_1d'] = cases['deaths_1d'].astype('Int64')\n",
        "cases['deaths_moving_avg_7d'] = cases['deaths_moving_avg_7d'].astype('Int64')"
      ],
      "metadata": {
        "id": "hKvRhrCdmQjV"
      },
      "execution_count": null,
      "outputs": []
    },
    {
      "cell_type": "code",
      "source": [
        "# Por fim, vamos reorganizar as colunas e conferir o resultado final.\n",
        "cases = cases[['date', 'country', 'state', 'population', 'confirmed', 'confirmed_1d', 'confirmed_moving_avg_7d', 'confirmed_moving_avg_7d_rate_14d', 'confirmed_trend', 'deaths', 'deaths_1d', 'deaths_moving_avg_7d', 'deaths_moving_avg_7d_rate_14d', 'deaths_trend', 'month', 'year']]"
      ],
      "metadata": {
        "id": "-3BRTfMMmc3V"
      },
      "execution_count": null,
      "outputs": []
    },
    {
      "cell_type": "code",
      "source": [
        "cases.head(n=25)"
      ],
      "metadata": {
        "id": "W2LIN03Rmgrn"
      },
      "execution_count": null,
      "outputs": []
    },
    {
      "cell_type": "markdown",
      "metadata": {
        "id": "KSgjP--1JS9R"
      },
      "source": [
        "## 3.3\\. Carregamento"
      ]
    },
    {
      "cell_type": "code",
      "metadata": {
        "id": "Jlj3ACWCJS9R"
      },
      "source": [
        "# faça o código para persistência dos dados:\n",
        "#\n",
        "cases.to_csv('./covid-cases.csv', sep=',', index=False)"
      ],
      "execution_count": null,
      "outputs": []
    },
    {
      "cell_type": "markdown",
      "source": [
        "## 4\\. Vacinação"
      ],
      "metadata": {
        "id": "TI-0WcALouRB"
      }
    },
    {
      "cell_type": "markdown",
      "metadata": {
        "id": "eZP-KFp6ouRC"
      },
      "source": [
        "## 4.1\\. Extração"
      ]
    },
    {
      "cell_type": "code",
      "metadata": {
        "id": "2ooIqzA-ouRD"
      },
      "source": [
        "# faça o código de extração dos dados:\n",
        "vaccines = pd.read_csv('https://covid.ourworldindata.org/data/owid-covid-data.csv', sep=',', parse_dates=[3], infer_datetime_format=True)"
      ],
      "execution_count": null,
      "outputs": []
    },
    {
      "cell_type": "code",
      "source": [
        "#selecionando as colunas de interesse e as linhas referentes ao Brasil\n",
        "vaccines = vaccines.query('location == \"Brazil\"').reset_index(drop=True)\n",
        "vaccines = vaccines[['location', 'population', 'total_vaccinations', 'people_vaccinated', 'people_fully_vaccinated', 'total_boosters', 'date']]"
      ],
      "metadata": {
        "id": "5XcHoHL2ouRD"
      },
      "execution_count": null,
      "outputs": []
    },
    {
      "cell_type": "code",
      "source": [
        "# manipulando os dados para o dashboard. O foco é em garantir uma boa granularidade e qualidade da base de dados. (Wrangling)\n",
        "vaccines.head()"
      ],
      "metadata": {
        "id": "Xh4mSyWSouRE"
      },
      "execution_count": null,
      "outputs": []
    },
    {
      "cell_type": "code",
      "source": [
        "vaccines.shape"
      ],
      "metadata": {
        "id": "xSVedYBDouRE"
      },
      "execution_count": null,
      "outputs": []
    },
    {
      "cell_type": "code",
      "source": [
        "vaccines.info()"
      ],
      "metadata": {
        "id": "HDKlULv5ouRE"
      },
      "execution_count": null,
      "outputs": []
    },
    {
      "cell_type": "markdown",
      "metadata": {
        "id": "HvvrWRtmouRE"
      },
      "source": [
        "## 4.2\\. Transformação"
      ]
    },
    {
      "cell_type": "code",
      "metadata": {
        "id": "8ME_mXAoouRF"
      },
      "source": [
        "# faça o código de manipulação dos dados:\n",
        "\n",
        "#Vamos começar tratando os dados faltantes, a estratégia será a de preencher os buracos com o valor anterior válido mais próximo\n",
        "vaccines = vaccines.fillna(method='ffill')"
      ],
      "execution_count": null,
      "outputs": []
    },
    {
      "cell_type": "code",
      "source": [
        "#Vamos também filtrar a base de dados de acordo com a coluna date para garantir que ambas as bases de dados tratam do mesmo período de tempo.\n",
        "vaccines = vaccines[(vaccines['date'] >= '2021-01-01') & (vaccines['date'] <= '2021-12-31')].reset_index(drop=True)"
      ],
      "metadata": {
        "id": "jcBXWbNrouRF"
      },
      "execution_count": null,
      "outputs": []
    },
    {
      "cell_type": "code",
      "source": [
        "# Agora, vamos alterar o nome das colunas.\n",
        "vaccines = vaccines.rename(\n",
        "  columns={\n",
        "    'location': 'country',\n",
        "    'total_vaccinations': 'total',\n",
        "    'people_vaccinated': 'one_shot',\n",
        "    'people_fully_vaccinated': 'two_shots',\n",
        "    'total_boosters': 'three_shots',\n",
        "  }\n",
        ")"
      ],
      "metadata": {
        "id": "6KOokt1_pU4s"
      },
      "execution_count": null,
      "outputs": []
    },
    {
      "cell_type": "code",
      "source": [
        "# Vamos então computar novas colunas para enriquecer a base de dados.\n",
        "# Chaves temporais:\n",
        "vaccines['month'] = vaccines['date'].apply(lambda date: date.strftime('%Y-%m'))\n",
        "vaccines['year']  = vaccines['date'].apply(lambda date: date.strftime('%Y'))"
      ],
      "metadata": {
        "id": "XIFNFertpXNl"
      },
      "execution_count": null,
      "outputs": []
    },
    {
      "cell_type": "code",
      "source": [
        "# Dados relativos:\n",
        "vaccines['one_shot_perc'] = round(vaccines['one_shot'] / vaccines['population'], 4)\n",
        "vaccines['two_shots_perc'] = round(vaccines['two_shots'] / vaccines['population'], 4)\n",
        "vaccines['three_shots_perc'] = round(vaccines['three_shots'] / vaccines['population'], 4)"
      ],
      "metadata": {
        "id": "JaAW56_gpcPE"
      },
      "execution_count": null,
      "outputs": []
    },
    {
      "cell_type": "code",
      "source": [
        "# Garantir o tipo do dado é fundamental para consistência da base de dados. Vamos fazer o type casting das colunas.\n",
        "vaccines['population'] = vaccines['population'].astype('Int64')\n",
        "vaccines['total'] = vaccines['total'].astype('Int64')\n",
        "vaccines['one_shot'] = vaccines['one_shot'].astype('Int64')\n",
        "vaccines['two_shots'] = vaccines['two_shots'].astype('Int64')\n",
        "vaccines['three_shots'] = vaccines['three_shots'].astype('Int64')"
      ],
      "metadata": {
        "id": "_mPonKbapfp0"
      },
      "execution_count": null,
      "outputs": []
    },
    {
      "cell_type": "code",
      "source": [
        "# Por fim, vamos reorganizar as colunas e conferir o resultado final.\n",
        "vaccines = vaccines[['date', 'country', 'population', 'total', 'one_shot', 'one_shot_perc', 'two_shots', 'two_shots_perc', 'three_shots', 'three_shots_perc', 'month', 'year']]"
      ],
      "metadata": {
        "id": "vtGZEnHhpkGz"
      },
      "execution_count": null,
      "outputs": []
    },
    {
      "cell_type": "code",
      "source": [
        "vaccines.tail()"
      ],
      "metadata": {
        "id": "JfLq_mUUpmRU"
      },
      "execution_count": null,
      "outputs": []
    },
    {
      "cell_type": "markdown",
      "metadata": {
        "id": "Qs3KvvLGouRH"
      },
      "source": [
        "## 4.3\\. Carregamento"
      ]
    },
    {
      "cell_type": "code",
      "metadata": {
        "id": "x_cr07N9ouRI"
      },
      "source": [
        "# faça o código para persistência dos dados:\n",
        "#\n",
        "vaccines.to_csv('./covid-vaccines.csv', sep=',', index=False)"
      ],
      "execution_count": null,
      "outputs": []
    }
  ]
}