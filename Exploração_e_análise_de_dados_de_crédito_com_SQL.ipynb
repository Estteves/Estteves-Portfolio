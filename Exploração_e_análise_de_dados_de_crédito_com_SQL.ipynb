{
  "metadata": {
    "kernelspec": {
      "language": "python",
      "display_name": "Python 3",
      "name": "python3"
    },
    "language_info": {
      "name": "python",
      "version": "3.7.12",
      "mimetype": "text/x-python",
      "codemirror_mode": {
        "name": "ipython",
        "version": 3
      },
      "pygments_lexer": "ipython3",
      "nbconvert_exporter": "python",
      "file_extension": ".py"
    },
    "colab": {
      "provenance": [],
      "include_colab_link": true
    }
  },
  "nbformat_minor": 0,
  "nbformat": 4,
  "cells": [
    {
      "cell_type": "markdown",
      "metadata": {
        "id": "view-in-github",
        "colab_type": "text"
      },
      "source": [
        "<a href=\"https://colab.research.google.com/github/Estteves/Estteves-Portfolio/blob/main/Explora%C3%A7%C3%A3o_e_an%C3%A1lise_de_dados_de_cr%C3%A9dito_com_SQL.ipynb\" target=\"_parent\"><img src=\"https://colab.research.google.com/assets/colab-badge.svg\" alt=\"Open In Colab\"/></a>"
      ]
    },
    {
      "cell_type": "markdown",
      "source": [
        "# Credit EDA and Analysis | Estteves Santos | EBAC"
      ],
      "metadata": {
        "id": "7_BfobO6EeWq"
      }
    },
    {
      "cell_type": "markdown",
      "source": [],
      "metadata": {
        "id": "zxuwVQt1EeWs"
      }
    },
    {
      "cell_type": "markdown",
      "source": [
        "# Exploração e análise de dados de crédito com SQL"
      ],
      "metadata": {
        "id": "7wIh_JtOEeWs"
      }
    },
    {
      "cell_type": "markdown",
      "source": [
        "Exploração e análise de dados de crédito com SQL\n",
        "Esse notebook faz parte do curso SQL para análise de dados da EBAC.\n",
        "\n",
        "Os dados:\n",
        "Os dados representam informações de clientes de um banco e contam com as seguintes colunas:\n",
        "\n",
        "* idade = idade do cliente\n",
        "* sexo = sexo do cliente (F ou M)\n",
        "* dependentes = número de dependentes do cliente\n",
        "* escolaridade = nível de escolaridade do clientes\n",
        "* salario_anual = faixa salarial do cliente\n",
        "* tipo_cartao = tipo de cartao do cliente\n",
        "* qtd_produtos = quantidade de produtos comprados nos últimos 12 meses\n",
        "* iteracoes_12m = quantidade de iterações/transacoes nos ultimos 12 meses\n",
        "* meses_inativo_12m = quantidade de meses que o cliente ficou inativo\n",
        "* limite_credito = limite de credito do cliente\n",
        "* valor_transacoes_12m = valor das transações dos ultimos 12 meses\n",
        "* qtd_transacoes_12m = quantidade de transacoes dos ultimos 12 meses"
      ],
      "metadata": {
        "id": "cp-d5aqWEeWt"
      }
    },
    {
      "cell_type": "markdown",
      "source": [
        "## Exploração de dados:\n",
        "\n",
        "**Qual a quantidade de informações temos na nossa base de dados?**\n",
        "\n",
        "**Query:** SELECT count(*) FROM credito"
      ],
      "metadata": {
        "id": "vCZVS2ZzEeWt"
      }
    },
    {
      "cell_type": "markdown",
      "source": [
        "Reposta: 2564 linhas"
      ],
      "metadata": {
        "id": "6xXQsDeqEeWt"
      }
    },
    {
      "cell_type": "markdown",
      "source": [
        "**Tipos de dados**\n",
        "\n",
        "Query: DESCRIBE credito\n",
        "\n",
        "![](https://github.com/marianeneiva/sqlEBAC/blob/main/describe.png?raw=true)"
      ],
      "metadata": {
        "id": "HlPuZ4e5EeWu"
      }
    },
    {
      "cell_type": "markdown",
      "source": [
        "**Quais são os tipos de escolaridade disponíveis no dataset?**\n",
        "\n",
        "**Query:** SELECT DISTINCT escolaridade FROM credito\n",
        "\n",
        "![](https://github.com/marianeneiva/sqlEBAC/blob/main/escolaridade.png?raw=true)\n",
        "**OBS:** Temos valores nulos nos dados de \"escolaridade\"."
      ],
      "metadata": {
        "id": "hZJ6-9KFEeWu"
      }
    },
    {
      "cell_type": "markdown",
      "source": [
        "**Quais são os tipos de estado_civil disponíveis no dataset?**\n",
        "\n",
        "**Query**: SELECT DISTINCT estado_civil FROM credito\n",
        "\n",
        "![](https://github.com/marianeneiva/sqlEBAC/blob/main/escolaridade.png?raw=true)\n",
        "**OBS:** Também existem valores nulos nos dados de \"estado-civil\".\n"
      ],
      "metadata": {
        "id": "OLOR35uaEeWu"
      }
    },
    {
      "cell_type": "markdown",
      "source": [
        "**Quais as faixas salariais disponíveis no dataset?**\n",
        "\n",
        "**Query:** SELECT DISTINCT salario_anual FROM credito\n",
        "\n",
        "![](https://github.com/marianeneiva/sqlEBAC/blob/main/salario_anual.png?raw=true)\n",
        "\n",
        "**OBS:** Também contem dados nulos."
      ],
      "metadata": {
        "id": "iI4kCUplEeWv"
      }
    },
    {
      "cell_type": "markdown",
      "source": [
        "**Quais são os tipos de cartão disponíveis no dataset?**\n",
        "\n",
        "**Query:** SELECT DISTINCT tipo_cartao FROM credito\n",
        "\n",
        "![](https://github.com/marianeneiva/sqlEBAC/blob/main/cartao.png?raw=true)\n"
      ],
      "metadata": {
        "id": "pPdwji4rEeWv"
      }
    },
    {
      "cell_type": "markdown",
      "source": [
        "## Análise de dados:\n",
        "\n",
        "**Quantos clientes temos de cada faixa salarial?**\n",
        "\n",
        "**Query:** select count(*), salario_anual from credito group by salario_anual\n",
        "\n",
        "![](https://github.com/marianeneiva/sqlEBAC/blob/main/faixa_salarial.png?raw=true)\n",
        "\n",
        "Podemos observar que a maioria possui renda inferior a R$40K."
      ],
      "metadata": {
        "id": "XHGN6rXzEeWv"
      }
    },
    {
      "cell_type": "markdown",
      "source": [
        "**Quantos clientes são homens e quantos são mulheres?**\n",
        "\n",
        "**Query:** select count(*), sexo from credito group by sexo\n",
        "\n",
        "![](https://github.com/marianeneiva/sqlEBAC/blob/main/faixa_sexo.png?raw=true)\n",
        "\n",
        "![](https://github.com/marianeneiva/sqlEBAC/blob/main/qtde_por_sexo.png?raw=true)\n",
        "\n",
        "Podemos observar que mais de 60% dos clientes são homens."
      ],
      "metadata": {
        "id": "J024O48BEeWv"
      }
    },
    {
      "cell_type": "markdown",
      "source": [
        "**Qual a maior e menor transação dos clientes?**\n",
        "\n",
        "**Query:** select min(valor_transacoes_12m) as transacao_minima, max(valor_transacoes_12m) as transacao_minima from credito\n",
        "\n",
        "![](https://github.com/marianeneiva/sqlEBAC/blob/main/transacoes.png?raw=true)\n",
        "\n",
        "Podemos observar que em 12 meses a menor transação foi de 510.16 e a maior foi 4776.58."
      ],
      "metadata": {
        "id": "Ul9HtHXlEeWw"
      }
    },
    {
      "cell_type": "markdown",
      "source": [
        "**Quais as características dos clientes que possuem os maiores creditos?**\n",
        "\n",
        "**Query:** select max(limite_credito) as limite_credito, escolaridade, tipo_cartao, sexo from credito where escolaridade != 'na' and tipo_cartao != 'na' group by escolaridade, tipo_cartao, sexo order by limite_credito desc limit 10\n",
        "\n",
        "![](https://github.com/marianeneiva/sqlEBAC/blob/main/limite_desc.png?raw=true)\n",
        "\n",
        "Podemos observar que não existe relação entre alo limite de crédito com alto nível de escolaridade ou alto tipo de cartão."
      ],
      "metadata": {
        "id": "ytgfAzfTEeWw"
      }
    },
    {
      "cell_type": "markdown",
      "source": [
        "**Quais as características dos clientes que possuem os menores creditos?**\n",
        "\n",
        "**Query:** select max(limite_credito) as limite_credito, escolaridade, tipo_cartao, sexo from credito where escolaridade != 'na' and tipo_cartao != 'na' group by escolaridade, tipo_cartao, sexo order by limite_credito asc\n",
        "\n",
        "![](https://github.com/marianeneiva/sqlEBAC/blob/main/limite_asc.png?raw=true)\n",
        "\n",
        "Podemos observar que os menores limites são de clientes do sexo feminino, enquanto os maiores foram do sexo masculino. Além disso, a maioria de clientes com baixo limite de crédito possuem o cartão do tipo blue."
      ],
      "metadata": {
        "id": "P4TRrIVhEeWw"
      }
    },
    {
      "cell_type": "markdown",
      "source": [
        "**Quem gasta mais? Homens ou Mulheres?**\n",
        "\n",
        "**Query:** select max(valor_transacoes_12m) as maior_valor_gasto, avg(valor_transacoes_12m) as media_valor_gasto, min(valor_transacoes_12m) as min_valor_gasto, sexo from credito group by sexo\n",
        "\n",
        "![](https://github.com/marianeneiva/sqlEBAC/blob/main/quemgastamais.png?raw=true)\n",
        "\n",
        "Apesar da diferença nos limites, os gastos entre homens e mulheres são similares!"
      ],
      "metadata": {
        "id": "FEIEhm_4EeWw"
      }
    },
    {
      "cell_type": "markdown",
      "source": [
        "**O salário impacta no limite?**\n",
        "\n",
        "**Query:** select avg(qtd_produtos) as qts_produtos, avg(valor_transacoes_12m) as media_valor_transacoes, avg(limite_credito) as media_limite, sexo, salario_anual from credito where salario_anual != 'na' group by sexo, salario_anual order by avg(valor_transacoes_12m) desc\n",
        "\n",
        "![](https://github.com/marianeneiva/sqlEBAC/blob/main/salarioAnualMediaLimite.png?raw=true)\n",
        "\n",
        "Podemos observar que as pessoas que possuem maior faixa salarial, possuem maior limite de crédito. Também é possivel afirmar que os clientes do sexo masculino possuem maior faixa salarial."
      ],
      "metadata": {
        "id": "PFw7_l4cEeWw"
      }
    },
    {
      "cell_type": "markdown",
      "source": [
        "## Conclusão:\n",
        "Essas foram algumas análises extraídas do dataset de crédito.\n",
        "\n",
        "**Alguns insights interessantes:**\n",
        "\n",
        "* a maior parte dos clientes possui renda até 40K\n",
        "* a maior parte dos clientes é masculino!\n",
        "* a escolaridade não parece influenciar no limite nem no tipo do cartão\n",
        "* os clientes com maiores limites são em sua maioria homens\n",
        "* os clientes com menores limites são em sua maioria mulheres\n",
        "* a faixa salarial impacta diretamente no limite de crédito"
      ],
      "metadata": {
        "id": "n9OPPIQHEeWx"
      }
    }
  ]
}